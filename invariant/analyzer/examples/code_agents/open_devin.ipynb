{
 "cells": [
  {
   "cell_type": "code",
   "execution_count": null,
   "metadata": {},
   "outputs": [],
   "source": [
    "from datasets import load_dataset\n",
    "from invariant.analyzer import Policy\n",
    "import re\n",
    "from tests.utils import *\n",
    "\n",
    "import nest_asyncio\n",
    "nest_asyncio.apply()"
   ]
  },
  {
   "cell_type": "code",
   "execution_count": null,
   "metadata": {},
   "outputs": [],
   "source": [
    "dataset = load_dataset(\"xingyaoww/opendevin-code-act\")[\"codeact\"]"
   ]
  },
  {
   "cell_type": "code",
   "execution_count": null,
   "metadata": {},
   "outputs": [],
   "source": [
    "regex = {\n",
    "    \"bash\": r'<execute_bash>(.*?)</execute_bash>',\n",
    "    \"ipython\": r'<execute_ipython>(.*?)</execute_ipython>',\n",
    "    \"browse\": r'<execute_browse>(.*?)</execute_browse>',\n",
    "}\n",
    "\n",
    "trace = []\n",
    "convs = dataset[\"conversations\"]\n",
    "for conv in convs[:100]:\n",
    "    last_call_idx = None\n",
    "    for idx, msg in enumerate(conv):\n",
    "        if msg[\"role\"] == \"assistant\":\n",
    "            function_name, arg = None, None\n",
    "            for lang in [\"bash\", \"ipython\", \"browse\"]:\n",
    "                match = re.search(regex[lang], msg[\"content\"], re.DOTALL)\n",
    "                if match is not None:\n",
    "                    function_name = lang\n",
    "                    arg = match.group(1)\n",
    "                    thought = msg[\"content\"][:match.start()]\n",
    "            if function_name is None:\n",
    "                trace.append(assistant(msg[\"content\"]))\n",
    "            else:\n",
    "                last_call_idx = str(idx)\n",
    "                call = tool_call(last_call_idx, function_name, {\"arg\": arg})\n",
    "                trace.append(assistant(thought, call))\n",
    "        else:\n",
    "            if msg[\"content\"].startswith(\"OBSERVATION:\\n\\n\"):\n",
    "                trace.append(tool(last_call_idx, msg[\"content\"][len(\"OBSERVATION:\\n\\n\"):]))\n",
    "            else:\n",
    "                trace.append(user(msg[\"content\"]))\n",
    "    \n",
    "    policy = Policy.from_string(\"\"\"\n",
    "    from invariant.detectors import python_code\n",
    "                                \n",
    "    raise PolicyViolation(\"found double syntax error\") if:\n",
    "        (call1: ToolCall) -> (call2: ToolCall)\n",
    "        call1.function.name == \"ipython\"\n",
    "        python_code(call1.function.arguments[\"arg\"]).syntax_error\n",
    "        call2.function.name == \"ipython\"\n",
    "        python_code(call2.function.arguments[\"arg\"]).syntax_error\n",
    "    \"\"\")\n",
    "    res = policy.analyze(trace)\n",
    "    if len(res.errors) > 0:\n",
    "        print(res)\n",
    "        for t in trace:\n",
    "            print(t)\n",
    "        break\n",
    "    "
   ]
  }
 ],
 "metadata": {
  "kernelspec": {
   "display_name": ".venv",
   "language": "python",
   "name": "python3"
  },
  "language_info": {
   "codemirror_mode": {
    "name": "ipython",
    "version": 3
   },
   "file_extension": ".py",
   "mimetype": "text/x-python",
   "name": "python",
   "nbconvert_exporter": "python",
   "pygments_lexer": "ipython3",
   "version": "3.12.2"
  }
 },
 "nbformat": 4,
 "nbformat_minor": 2
}
