{
 "cells": [
  {
   "cell_type": "code",
   "execution_count": null,
   "metadata": {},
   "outputs": [],
   "source": [
    "import json\n",
    "import os\n",
    "from invariant.analyzer import Policy\n",
    "from invariant.analyzer.traces import *\n",
    "\n",
    "import nest_asyncio\n",
    "nest_asyncio.apply()"
   ]
  },
  {
   "cell_type": "code",
   "execution_count": null,
   "metadata": {},
   "outputs": [],
   "source": [
    "!git clone https://github.com/swe-bench/experiments.git\n",
    "data_folder = 'experiments/evaluation/test/20240402_sweagent_gpt4/trajs'"
   ]
  },
  {
   "cell_type": "code",
   "execution_count": null,
   "metadata": {},
   "outputs": [],
   "source": [
    "def print_trace(trace, abbreviate=True):\n",
    "    \"\"\"Utility function to print the trace\"\"\"\n",
    "    for t in trace:\n",
    "        if t.get(\"role\", None) in [\"system\", \"user\", \"assistant\"]:\n",
    "            type, content = t[\"role\"], t[\"content\"]\n",
    "            print(f\"{type}: {content}\")\n",
    "        elif t.get(\"role\", None) == \"tool\":\n",
    "            content = \"<...>\" if abbreviate else t[\"content\"]\n",
    "            print(\"tool_output: \", content)\n",
    "        else:\n",
    "            args = \"<...>\" if abbreviate else t[\"function\"][\"arguments\"]\n",
    "            print(\"tool_call: \", t[\"function\"][\"name\"], args)"
   ]
  },
  {
   "cell_type": "code",
   "execution_count": null,
   "metadata": {},
   "outputs": [],
   "source": [
    "def transform_trace(trajectory):\n",
    "    \"\"\"Utility to transform the trajectory to trace that can be analyzed by Invariant\"\"\"\n",
    "    inv_traj = []\n",
    "    for idx, el in enumerate(trajectory):\n",
    "        action = el[\"action\"]\n",
    "        action_name = action[:action.find(\" \")]\n",
    "        action_params = action[action.find(\" \")+1:]\n",
    "\n",
    "        if action_name == \"edit\":\n",
    "            code = action[action.find(\"\\n\"):action.rfind(\"end_of_edit\")]\n",
    "            loc = action_params[:action_params.find(\"\\n\")]\n",
    "            inv_traj.append(tool_call(idx, \"edit\", {\"code\": code, \"loc\": loc}))\n",
    "        else:\n",
    "            inv_traj.append(tool_call(idx, action_name, {\"arg\": action_params}))\n",
    "\n",
    "        observation = el[\"observation\"]\n",
    "        inv_traj.append(tool(idx, observation))\n",
    "    return inv_traj"
   ]
  },
  {
   "cell_type": "code",
   "execution_count": null,
   "metadata": {},
   "outputs": [],
   "source": [
    "# We load all the tracea\n",
    "traces = []\n",
    "for _, _, files in os.walk(data_folder):\n",
    "    for idx, file in enumerate(files):\n",
    "        file_path = os.path.join(data_folder, file)\n",
    "        with open(file_path, 'r') as fin:\n",
    "            content = fin.read()\n",
    "            input_data = json.loads(content)\n",
    "\n",
    "            trajectory = input_data[\"trajectory\"]\n",
    "            traces.append(transform_trace(trajectory))\n",
    "print(f\"Loaded {len(traces)} traces\")"
   ]
  },
  {
   "cell_type": "markdown",
   "metadata": {},
   "source": [
    "We consider a policy that raises a violation if there have been two tool calls such that the first call introduces a potential security vulnerability via pickle, and one of the next calls runs the python code."
   ]
  },
  {
   "cell_type": "code",
   "execution_count": null,
   "metadata": {},
   "outputs": [],
   "source": [
    "policy = Policy.from_string(\"\"\"\n",
    "    from invariant.detectors import pii, semgrep, CodeIssue, secrets\n",
    "                                \n",
    "    raise PolicyViolation(\"found unsafe code: \", issue) if:\n",
    "        (call1: ToolCall) -> (call2: ToolCall)\n",
    "        call1.function.name == \"edit\"\n",
    "        (issue: CodeIssue) in semgrep(call1.function.arguments[\"code\"])\n",
    "        call2.function.name == \"python\"\n",
    "        \"pickle\" in issue.description\n",
    "    \"\"\")"
   ]
  },
  {
   "cell_type": "code",
   "execution_count": null,
   "metadata": {},
   "outputs": [],
   "source": [
    "bad_idx = []\n",
    "for idx, trace in enumerate(traces):\n",
    "    res = policy.analyze(trace)\n",
    "    if len(res.errors) > 0:\n",
    "        bad_idx.append((idx, res))\n",
    "    if (idx+1) % 100 == 0:\n",
    "        print(f\"bad traces: {len(bad_idx)}/{idx+1}\")        "
   ]
  }
 ],
 "metadata": {
  "kernelspec": {
   "display_name": ".venv",
   "language": "python",
   "name": "python3"
  },
  "language_info": {
   "codemirror_mode": {
    "name": "ipython",
    "version": 3
   },
   "file_extension": ".py",
   "mimetype": "text/x-python",
   "name": "python",
   "nbconvert_exporter": "python",
   "pygments_lexer": "ipython3",
   "version": "3.12.2"
  }
 },
 "nbformat": 4,
 "nbformat_minor": 2
}
