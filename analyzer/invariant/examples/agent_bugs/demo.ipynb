{
 "cells": [
  {
   "cell_type": "code",
   "execution_count": null,
   "metadata": {},
   "outputs": [],
   "source": [
    "from traceset import SWEAgentTraceSet\n",
    "\n",
    "traceset = SWEAgentTraceSet.from_path(\"../code_agents/experiments/evaluation/lite/20240603_sweagent_gpt4o/trajs\")\n",
    "traceset"
   ]
  },
  {
   "cell_type": "code",
   "execution_count": null,
   "metadata": {},
   "outputs": [],
   "source": [
    "traceset[0]"
   ]
  },
  {
   "cell_type": "code",
   "execution_count": null,
   "metadata": {},
   "outputs": [],
   "source": [
    "traceset.filter(\"\"\"(call: ToolCall)\n",
    "                    call is tool:open\"\"\")"
   ]
  },
  {
   "cell_type": "code",
   "execution_count": null,
   "metadata": {
    "scrolled": true
   },
   "outputs": [],
   "source": [
    "traceset.filter(\"\"\"(call1: ToolCall)\n",
    "                   (call2: ToolCall)\n",
    "                   (call3: ToolCall)\n",
    "                   call1 -> call2\n",
    "                   call2 -> call3\n",
    "                   call1 is tool:scroll_down\n",
    "                   call2 is tool:scroll_down\n",
    "                   call3 is tool:scroll_down\n",
    "                \"\"\")"
   ]
  },
  {
   "cell_type": "code",
   "execution_count": null,
   "metadata": {},
   "outputs": [],
   "source": [
    "!pip install datasets\n",
    "from traceset import OpenDevinLoader\n",
    "\n",
    "traceset = OpenDevinLoader.from_repository(\"xingyaoww/opendevin-code-act\", \"codeact\")\n",
    "traceset\n"
   ]
  },
  {
   "cell_type": "code",
   "execution_count": null,
   "metadata": {},
   "outputs": [],
   "source": [
    "traceset.filter(\"\"\"(call1: ToolCall) -> (call2: ToolCall)\n",
    "                   call1.function.name == \"ipython\"\n",
    "                   ipython_code(call1.function.arguments[\"arg\"]).syntax_error\n",
    "                   call2.function.name == \"ipython\"\n",
    "                   ipython_code(call2.function.arguments[\"arg\"]).syntax_error\"\"\",\n",
    "                prefix=\"from invariant.detectors import ipython_code\")"
   ]
  },
  {
   "cell_type": "code",
   "execution_count": null,
   "metadata": {},
   "outputs": [],
   "source": [
    "traceset[0]"
   ]
  },
  {
   "cell_type": "code",
   "execution_count": null,
   "metadata": {},
   "outputs": [],
   "source": []
  }
 ],
 "metadata": {
  "kernelspec": {
   "display_name": "Python 3 (ipykernel)",
   "language": "python",
   "name": "python3"
  },
  "language_info": {
   "codemirror_mode": {
    "name": "ipython",
    "version": 3
   },
   "file_extension": ".py",
   "mimetype": "text/x-python",
   "name": "python",
   "nbconvert_exporter": "python",
   "pygments_lexer": "ipython3",
   "version": "3.12.2"
  }
 },
 "nbformat": 4,
 "nbformat_minor": 4
}
